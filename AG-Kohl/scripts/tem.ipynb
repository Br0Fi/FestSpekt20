{
 "cells": [
  {
   "cell_type": "code",
   "execution_count": 1,
   "metadata": {},
   "outputs": [],
   "source": [
    "# Importanweisungen\n",
    "\n",
    "import os\n",
    "import re\n",
    "import numpy as np\n",
    "import statistics as stat\n",
    "import scipy as sci\n",
    "import scipy.fftpack\n",
    "import sympy as sym\n",
    "import matplotlib.pyplot as plt\n",
    "import matplotlib\n",
    "import matplotlib.axes as axes\n",
    "import matplotlib.patches as patches\n",
    "from matplotlib import colors as mcolors\n",
    "import math\n",
    "from scipy import optimize\n",
    "import uncertainties as unc\n",
    "import uncertainties.unumpy as unp\n",
    "import uncertainties.umath as umath\n",
    "unv=unp.nominal_values\n",
    "usd=unp.std_devs\n",
    "\n",
    "%matplotlib qt\n",
    "import hyperspy.api as hs\n",
    "import hyperspy.io as io\n",
    "hs.preferences.GUIs.warn_if_guis_are_missing = False\n",
    "hs.preferences.save()"
   ]
  },
  {
   "cell_type": "code",
   "execution_count": 2,
   "metadata": {},
   "outputs": [],
   "source": [
    "# Konstanten fuer einheitliche Darstellung\n",
    "\n",
    "fig_size = (10, 6)\n",
    "fig_legendsize = 14\n",
    "fig_labelsize = 12\n",
    "matplotlib.rcParams.update({'font.size': fig_labelsize})\n",
    "\n",
    "colors = dict(mcolors.BASE_COLORS, **mcolors.CSS4_COLORS)\n",
    "#colors\n",
    "\n",
    "# weitere Werte, Konstanten\n",
    "# Werte von https://physics.nist.gov/cuu/Constants/index.html[0]\n",
    "\n",
    "c = 299792458 # m/s\n",
    "e = unc.ufloat_fromstr(\"1.6021766208(98)e-19\") # C\n",
    "k_B = unc.ufloat_fromstr(\"1.38064852(79)e-23\") # J K-1 [0]\n",
    "h = unc.ufloat_fromstr(\"4.135667662(25)e-15\") # eV s [0]\n",
    "r_e = unc.ufloat_fromstr(\"2.8179403227(19)e-15\") # m [0]\n",
    "R = unc.ufloat_fromstr(\"8.3144598(48)\") # J mol-1 K-1 [0]\n",
    "K = 273.15 # kelvin\n",
    "g = 9.81 # m/s^2\n",
    "rad = 360 / 2 / math.pi\n",
    "grad = 1/rad\n",
    "# Unsicherheiten\n",
    "unc_x = 0.002/math.sqrt(3)\n",
    "unc_y = 0.005/math.sqrt(3)\n",
    "unc_w = 0.3\n"
   ]
  },
  {
   "cell_type": "code",
   "execution_count": 3,
   "metadata": {},
   "outputs": [
    {
     "name": "stdout",
     "output_type": "stream",
     "text": [
      "/home/leonhard/FestSpekt20/AG-Kohl/raw/TEM/20180314_WFP_WSe_S2\n"
     ]
    }
   ],
   "source": [
    "%cd ~/FestSpekt20/AG-Kohl/raw/TEM/20180314_WFP_WSe_S2\n",
    "# für andere Systeme anpassen.\n",
    "save_loc = \"../../../img/\""
   ]
  },
  {
   "cell_type": "raw",
   "metadata": {},
   "source": [
    "import glob\n",
    "import types\n",
    "namelist = glob.glob(\"*.dm3\")\n",
    "\n",
    "def man_plot(plot_img):\n",
    "    plot_img.plot()\n",
    "    plt.gca().set_title(\"\")\n",
    "    plt.gca().set_xlabel(\"\")\n",
    "    plt.gca().set_ylabel(\"\")\n",
    "\n",
    "for i,name in enumerate(namelist):\n",
    "    #name = namelist[2]\n",
    "    s = hs.load(name)\n",
    "    if(not isinstance(s, list)):\n",
    "        man_plot(s)\n",
    "    else: # resolve lists of images\n",
    "        for subpic in s:\n",
    "            man_plot(subpic)"
   ]
  },
  {
   "cell_type": "code",
   "execution_count": 9,
   "metadata": {},
   "outputs": [
    {
     "data": {
      "text/plain": [
       "Text(32.99999999999999, 0.5, '')"
      ]
     },
     "execution_count": 9,
     "metadata": {},
     "output_type": "execute_result"
    }
   ],
   "source": [
    "bf = hs.load(\"WSe_S2_hrtem_007.dm3\")\n",
    "\n",
    "bf.plot()\n",
    "plt.gca().set_title(\"\")\n",
    "plt.gca().set_xlabel(\"\")\n",
    "plt.gca().set_ylabel(\"\")\n",
    "\n",
    "#plt.savefig(save_loc + \"bf.pdf\")"
   ]
  },
  {
   "cell_type": "raw",
   "metadata": {},
   "source": [
    "cl = hs.load(\"WSe_S2_eels_coreloss_009.dm3\")\n",
    "zl = hs.load(\"WSe_S2_eels_zeroloss_010.dm3\")[0]\n",
    "ll = hs.load(\"WSe_S2_eels_lowloss_008.dm3\")\n",
    "#s.add_elements(('W','Se'))\n",
    "#m = s.create_model(ll=ll)\n",
    "#m.smart_fit()\n",
    "#m.components\n",
    "cl.plot()\n",
    "plt.gca().set_title(\"\")\n",
    "plt.savefig(save_loc + \"coreloss.pdf\")\n",
    "zl.plot()\n",
    "plt.gca().set_title(\"\")\n",
    "plt.savefig(save_loc + \"zeroloss.pdf\")\n",
    "ll.plot()\n",
    "plt.gca().set_title(\"\")\n",
    "plt.savefig(save_loc + \"lowloss.pdf\")"
   ]
  },
  {
   "cell_type": "code",
   "execution_count": null,
   "metadata": {},
   "outputs": [],
   "source": []
  }
 ],
 "metadata": {
  "kernelspec": {
   "display_name": "Python 3",
   "language": "python",
   "name": "python3"
  },
  "language_info": {
   "codemirror_mode": {
    "name": "ipython",
    "version": 3
   },
   "file_extension": ".py",
   "mimetype": "text/x-python",
   "name": "python",
   "nbconvert_exporter": "python",
   "pygments_lexer": "ipython3",
   "version": "3.8.1"
  }
 },
 "nbformat": 4,
 "nbformat_minor": 4
}
