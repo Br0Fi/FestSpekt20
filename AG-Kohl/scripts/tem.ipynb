{
 "cells": [
  {
   "cell_type": "code",
   "execution_count": 7,
   "metadata": {},
   "outputs": [],
   "source": [
    "# Importanweisungen\n",
    "\n",
    "import os\n",
    "import re\n",
    "import numpy as np\n",
    "import statistics as stat\n",
    "import scipy as sci\n",
    "import scipy.fftpack\n",
    "import sympy as sym\n",
    "import matplotlib.pyplot as plt\n",
    "import matplotlib\n",
    "import matplotlib.axes as axes\n",
    "import matplotlib.patches as patches\n",
    "from matplotlib import colors as mcolors\n",
    "import math\n",
    "from scipy import optimize\n",
    "import uncertainties as unc\n",
    "import uncertainties.unumpy as unp\n",
    "import uncertainties.umath as umath\n",
    "unv=unp.nominal_values\n",
    "usd=unp.std_devs\n",
    "\n",
    "import hyperspy.api as hs\n",
    "hs.preferences.GUIs.warn_if_guis_are_missing = False\n",
    "hs.preferences.save()"
   ]
  },
  {
   "cell_type": "code",
   "execution_count": 8,
   "metadata": {},
   "outputs": [],
   "source": [
    "# Konstanten fuer einheitliche Darstellung\n",
    "\n",
    "fig_size = (10, 6)\n",
    "fig_legendsize = 14\n",
    "fig_labelsize = 12\n",
    "matplotlib.rcParams.update({'font.size': fig_labelsize})\n",
    "\n",
    "colors = dict(mcolors.BASE_COLORS, **mcolors.CSS4_COLORS)\n",
    "#colors\n",
    "\n",
    "# mathe Funktionen\n",
    "def find_nearest_index(array, value):\n",
    "    array = np.asarray(array)\n",
    "    idx = (np.abs(array - value)).argmin()\n",
    "    return idx\n",
    "def find_nearest(array, value):\n",
    "    array[find_nearest_index(array,value)]\n",
    "def normalize(ydata):\n",
    "   return (ydata-np.amin(ydata))/(np.amax(ydata)-np.amin(ydata))\n",
    "def mean(n):\n",
    "    # find the mean value and add uncertainties\n",
    "    k = np.mean(n)\n",
    "    err = stat.variance(unv(n))\n",
    "    return unc.ufloat(unv(k), math.sqrt(usd(k)**2 + err))\n",
    "\n",
    "def fft(y):\n",
    "    N = len(y)\n",
    "    fft = scipy.fftpack.fft(y)\n",
    "    return 2 * abs(fft[:N//2]) / N\n",
    "\n",
    "    # allgemeine Fitfunktionen\n",
    "\n",
    "def linear(x,m): # lineare Funktion mit f(x) = m * x\n",
    "    return(m*x)\n",
    "\n",
    "def gerade(x, m, b): # gerade mit = f(x) = m * x + b\n",
    "    return (m*x + b)\n",
    "\n",
    "def cyclic(x, a, f, phi):\n",
    "    return a * np.sin(x * f - phi)\n",
    "\n",
    "def cyclicOff(x, a, f, phi, offset):\n",
    "    return cyclic(x, a, f, phi) + offset\n",
    "\n",
    "def gauss(x, x0, A, d, y0):\n",
    "    return A * np.exp(-(x - x0)**2 / 2 / d**2) + y0\n",
    "\n",
    "def exponential(x, c, y0,yy):\n",
    "    return np.exp(c * x) * y0-yy\n",
    "\n",
    "def custom(x,y,c):\n",
    "    return 1/((x-0.066)*c)+y\n",
    "\n",
    "# fittet ein dataset mit gegebenen x und y werten, eine funktion und ggf. anfangswerten und y-Fehler\n",
    "# gibt die passenden parameter der funktion, sowie dessen unsicherheiten zurueck\n",
    "#\n",
    "# https://stackoverflow.com/questions/14581358/getting-standard-errors-on-fitted-parameters-using-the-optimize-leastsq-method-i#\n",
    "# Updated on 4/6/2016\n",
    "# User: https://stackoverflow.com/users/1476240/pedro-m-duarte\n",
    "def fit_curvefit(datax, datay, function, p0=None, yerr=None, **kwargs):\n",
    "    pfit, pcov = \\\n",
    "         optimize.curve_fit(function,datax,datay,p0=p0,\\\n",
    "                            sigma=yerr, epsfcn=0.0001, **kwargs)\n",
    "    error = []\n",
    "    for i in range(len(pfit)):\n",
    "        try:\n",
    "          error.append(np.absolute(pcov[i][i])**0.5)\n",
    "        except:\n",
    "          error.append( 0.00 )\n",
    "    pfit_curvefit = pfit\n",
    "    perr_curvefit = np.array(error)\n",
    "    return unp.uarray(pfit_curvefit, perr_curvefit)\n",
    "\n",
    "# fittet ein dataset mit gegebenen x und y werten, eine funktion und ggf. anfangswerten und y-Fehler\n",
    "# gibt die passenden parameter der funktion, sowie dessen unsicherheiten zurueck\n",
    "#\n",
    "# https://stackoverflow.com/questions/14581358/getting-standard-errors-on-fitted-parameters-using-the-optimize-leastsq-method-i#\n",
    "# Updated on 4/6/2016\n",
    "# User: https://stackoverflow.com/users/1476240/pedro-m-duarte\n",
    "def fit_curvefit2(datax, datay, function, p0=None, yerr=None, **kwargs):\n",
    "    pfit, pcov = \\\n",
    "         optimize.curve_fit(function,datax,datay,p0=p0,\\\n",
    "                            sigma=yerr, epsfcn=0.0001, **kwargs)\n",
    "    error = []\n",
    "    for i in range(len(pfit)):\n",
    "        try:\n",
    "          error.append(np.absolute(pcov[i][i])**0.5)\n",
    "        except:\n",
    "          error.append( 0.00 )\n",
    "    pfit_curvefit = pfit\n",
    "    perr_curvefit = np.array(error)\n",
    "    return unp.uarray(pfit_curvefit, perr_curvefit)\n",
    "# usage zB:\n",
    "# pfit, perr = fit_curvefit(unv(xdata), unv(ydata), gerade, yerr = usd(ydata), p0 = [1, 0])\n",
    "# fuer eine gerade mit anfangswerten m = 1, b = 0\n",
    "\n",
    "# weitere Werte, Konstanten\n",
    "# Werte von https://physics.nist.gov/cuu/Constants/index.html[0]\n",
    "\n",
    "c = 299792458 # m/s\n",
    "e = unc.ufloat_fromstr(\"1.6021766208(98)e-19\") # C\n",
    "k_B = unc.ufloat_fromstr(\"1.38064852(79)e-23\") # J K-1 [0]\n",
    "h = unc.ufloat_fromstr(\"4.135667662(25)e-15\") # eV s [0]\n",
    "r_e = unc.ufloat_fromstr(\"2.8179403227(19)e-15\") # m [0]\n",
    "R = unc.ufloat_fromstr(\"8.3144598(48)\") # J mol-1 K-1 [0]\n",
    "K = 273.15 # kelvin\n",
    "g = 9.81 # m/s^2\n",
    "rad = 360 / 2 / math.pi\n",
    "grad = 1/rad\n",
    "# Unsicherheiten\n",
    "unc_x = 0.002/math.sqrt(3)\n",
    "unc_y = 0.005/math.sqrt(3)\n",
    "unc_w = 0.3\n"
   ]
  },
  {
   "cell_type": "code",
   "execution_count": 4,
   "metadata": {},
   "outputs": [
    {
     "name": "stdout",
     "output_type": "stream",
     "text": [
      "/home/leonhard/FestSpekt20/AG-Kohl/scripts\n"
     ]
    }
   ],
   "source": [
    "%cd ../scripts"
   ]
  },
  {
   "cell_type": "code",
   "execution_count": 5,
   "metadata": {},
   "outputs": [
    {
     "name": "stdout",
     "output_type": "stream",
     "text": [
      "tem.ipynb\r\n"
     ]
    }
   ],
   "source": [
    "%ls"
   ]
  },
  {
   "cell_type": "code",
   "execution_count": 9,
   "metadata": {},
   "outputs": [
    {
     "name": "stdout",
     "output_type": "stream",
     "text": [
      "/home/leonhard/FestSpekt20/AG-Kohl/raw/TEM/20180314_WFP_WSe_S2\n"
     ]
    }
   ],
   "source": [
    "%cd /home/leonhard/FestSpekt20/AG-Kohl/raw/TEM/20180314_WFP_WSe_S2"
   ]
  },
  {
   "cell_type": "code",
   "execution_count": 22,
   "metadata": {},
   "outputs": [],
   "source": [
    "s = hs.load(\"WSe_S2_eels_coreloss_009.dm3\")"
   ]
  },
  {
   "cell_type": "code",
   "execution_count": 26,
   "metadata": {},
   "outputs": [],
   "source": [
    "s.metadata.General.title = \"coreloss 9\""
   ]
  },
  {
   "cell_type": "code",
   "execution_count": 27,
   "metadata": {
    "scrolled": true
   },
   "outputs": [
    {
     "data": {
      "image/png": "[encoded data removed]",
      "text/plain": [
       "<Figure size 432x288 with 1 Axes>"
      ]
     },
     "metadata": {
      "needs_background": "light"
     },
     "output_type": "display_data"
    }
   ],
   "source": [
    "s.plot()"
   ]
  },
  {
   "cell_type": "code",
   "execution_count": 28,
   "metadata": {},
   "outputs": [
    {
     "data": {
      "text/plain": [
       "├── Acquisition_instrument\n",
       "│   └── TEM\n",
       "│       ├── Detector\n",
       "│       │   └── EELS\n",
       "│       │       ├── collection_angle = 5.800000190734863\n",
       "│       │       ├── exposure = 5.0\n",
       "│       │       └── frame_number = 10\n",
       "│       ├── acquisition_mode = TEM\n",
       "│       ├── beam_current = 0.0\n",
       "│       ├── beam_energy = 200.0\n",
       "│       ├── convergence_angle = 0.10000000149011612\n",
       "│       ├── magnification = 100000.0\n",
       "│       └── microscope = Zeiss\n",
       "├── General\n",
       "│   ├── date = 2018-03-14\n",
       "│   ├── original_filename = WSe_S2_eels_coreloss_009.dm3\n",
       "│   ├── time = 14:06:15\n",
       "│   └── title = coreloss 9\n",
       "└── Signal\n",
       "    ├── Noise_properties\n",
       "    │   └── Variance_linear_model\n",
       "    │       ├── gain_factor = 0.1344086080789566\n",
       "    │       └── gain_offset = 0.0\n",
       "    ├── binned = True\n",
       "    ├── quantity = Electrons (Counts)\n",
       "    └── signal_type = EELS"
      ]
     },
     "execution_count": 28,
     "metadata": {},
     "output_type": "execute_result"
    }
   ],
   "source": [
    "s.metadata"
   ]
  },
  {
   "cell_type": "code",
   "execution_count": null,
   "metadata": {},
   "outputs": [],
   "source": []
  }
 ],
 "metadata": {
  "kernelspec": {
   "display_name": "Python 3",
   "language": "python",
   "name": "python3"
  },
  "language_info": {
   "codemirror_mode": {
    "name": "ipython",
    "version": 3
   },
   "file_extension": ".py",
   "mimetype": "text/x-python",
   "name": "python",
   "nbconvert_exporter": "python",
   "pygments_lexer": "ipython3",
   "version": "3.8.1"
  }
 },
 "nbformat": 4,
 "nbformat_minor": 4
}
