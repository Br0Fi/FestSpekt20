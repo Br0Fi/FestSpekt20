{
 "cells": [
  {
   "cell_type": "code",
   "execution_count": 1,
   "metadata": {},
   "outputs": [],
   "source": [
    "# Importanweisungen\n",
    "\n",
    "import os\n",
    "import re\n",
    "import numpy as np\n",
    "import statistics as stat\n",
    "import scipy as sci\n",
    "import scipy.fftpack\n",
    "import sympy as sym\n",
    "import matplotlib.pyplot as plt\n",
    "import matplotlib\n",
    "import matplotlib.axes as axes\n",
    "import matplotlib.patches as patches\n",
    "from matplotlib import colors as mcolors\n",
    "import math\n",
    "from scipy import optimize\n",
    "import uncertainties as unc\n",
    "import uncertainties.unumpy as unp\n",
    "import uncertainties.umath as umath\n",
    "unv=unp.nominal_values\n",
    "usd=unp.std_devs\n",
    "\n",
    "import hyperspy.api as hs\n",
    "import hyperspy.io as io\n",
    "hs.preferences.GUIs.warn_if_guis_are_missing = False\n",
    "hs.preferences.save()"
   ]
  },
  {
   "cell_type": "code",
   "execution_count": 6,
   "metadata": {},
   "outputs": [
    {
     "name": "stderr",
     "output_type": "stream",
     "text": [
      "WARNING:hyperspy.io_plugins.msa:TIME information missing.\n",
      "WARNING:hyperspy.io_plugins.msa:TIME information missing.\n"
     ]
    },
    {
     "name": "stdout",
     "output_type": "stream",
     "text": [
      "\n",
      "Absolute quantification:\n",
      "Elem.\tIntensity\n",
      "B\t0.046439\n",
      "N\t0.086660\n"
     ]
    },
    {
     "data": {
      "image/png": "[encoded data removed]",
      "text/plain": [
       "<Figure size 432x288 with 1 Axes>"
      ]
     },
     "metadata": {
      "needs_background": "light"
     },
     "output_type": "display_data"
    },
    {
     "data": {
      "image/png": "[encoded data removed]",
      "text/plain": [
       "<Figure size 432x288 with 1 Axes>"
      ]
     },
     "metadata": {
      "needs_background": "light"
     },
     "output_type": "display_data"
    }
   ],
   "source": [
    "s = hs.datasets.eelsdb(title=\"Hexagonal Boron Nitride\",\n",
    "                        spectrum_type=\"coreloss\")[0]\n",
    "ll = hs.datasets.eelsdb(title=\"Hexagonal Boron Nitride\",\n",
    "                         spectrum_type=\"lowloss\")[0]\n",
    "s.set_microscope_parameters(beam_energy=100,\n",
    "                             convergence_angle=0.2,\n",
    "                             collection_angle=2.55)\n",
    "s.add_elements(('B', 'N'))\n",
    "m = s.create_model(ll=ll)\n",
    "m.components\n",
    "m.multifit(kind='smart')\n",
    "m.quantify()\n",
    "#s.plot()\n",
    "ll.plot()\n",
    "m.plot()"
   ]
  },
  {
   "cell_type": "code",
   "execution_count": 3,
   "metadata": {},
   "outputs": [
    {
     "data": {
      "text/plain": [
       "├── Acquisition_instrument\n",
       "│   └── TEM\n",
       "│       ├── Detector\n",
       "│       │   └── EELS\n",
       "│       │       └── collection_angle = 2.55\n",
       "│       ├── beam_energy = 100\n",
       "│       ├── convergence_angle = 0.2\n",
       "│       └── microscope = JEOL 3000F\n",
       "├── General\n",
       "│   ├── author = Giovanni Bertoni\n",
       "│   └── title = Hexagonal Boron Nitride\n",
       "├── Sample\n",
       "│   ├── chemical_formula = BN (hex)\n",
       "│   ├── description = polycrystalline sample.\n",
       "the powder was heated at 500C for 4 h to remove conta ... es or deconvolution techniques. Analyst: Giovanni Bertoni. Temperature: Room. \n",
       "│   └── elements = ['B', 'N']\n",
       "└── Signal\n",
       "    ├── binned = True\n",
       "    ├── quantity = Electrons ()\n",
       "    └── signal_type = EELS"
      ]
     },
     "execution_count": 3,
     "metadata": {},
     "output_type": "execute_result"
    }
   ],
   "source": [
    "s.metadata"
   ]
  },
  {
   "cell_type": "code",
   "execution_count": 4,
   "metadata": {},
   "outputs": [
    {
     "data": {
      "text/plain": [
       "   # |      Attribute Name |      Component Name |      Component Type\n",
       "---- | ------------------- | ------------------- | -------------------\n",
       "   0 |            PowerLaw |            PowerLaw |            PowerLaw\n",
       "   1 |                 N_K |                 N_K |          EELSCLEdge\n",
       "   2 |                 B_K |                 B_K |          EELSCLEdge"
      ]
     },
     "execution_count": 4,
     "metadata": {},
     "output_type": "execute_result"
    }
   ],
   "source": [
    "m.components"
   ]
  },
  {
   "cell_type": "code",
   "execution_count": null,
   "metadata": {},
   "outputs": [],
   "source": []
  }
 ],
 "metadata": {
  "kernelspec": {
   "display_name": "Python 3",
   "language": "python",
   "name": "python3"
  },
  "language_info": {
   "codemirror_mode": {
    "name": "ipython",
    "version": 3
   },
   "file_extension": ".py",
   "mimetype": "text/x-python",
   "name": "python",
   "nbconvert_exporter": "python",
   "pygments_lexer": "ipython3",
   "version": "3.8.1"
  }
 },
 "nbformat": 4,
 "nbformat_minor": 4
}
